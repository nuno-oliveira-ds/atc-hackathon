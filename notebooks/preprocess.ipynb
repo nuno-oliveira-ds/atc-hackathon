{
 "cells": [
  {
   "cell_type": "code",
   "execution_count": null,
   "metadata": {},
   "outputs": [],
   "source": [
    "import pandas as pd"
   ]
  },
  {
   "cell_type": "code",
   "execution_count": null,
   "metadata": {},
   "outputs": [],
   "source": [
    "# Read parquet files\n",
    "data_camera: pd.DataFrame = pd.read_parquet('s3://datalake-eu-central-1/ugiO-atchackathon/raw/other/camera_2022_09_01.parquet')\n",
    "data_radar: pd.DataFrame = pd.read_parquet('s3://datalake-eu-central-1/ugiO-atchackathon/raw/radar/radar_count_2022_09_01.parquet')\n",
    "\n",
    "# Column preprocessing\n",
    "data_camera[\"time_index\"] = pd.to_datetime(data_camera[\"time_index\"])\n",
    "data_camera = data_camera.set_index(\"time_index\")\n",
    "data_radar[\"time_index\"] = pd.to_datetime(data_radar[\"time_index\"])\n",
    "data_radar = data_radar.set_index(\"time_index\")\n",
    "\n",
    "# Add pX col\n",
    "data_radar[\"n_p\"] = data_radar[\"entity_id\"].str.split(pat=\":\", expand=True)[4]\n",
    "data_camera[\"n_p\"] = data_camera[\"entity_id\"].str.split(pat=\":\", expand=True)[4]"
   ]
  },
  {
   "cell_type": "code",
   "execution_count": null,
   "metadata": {},
   "outputs": [],
   "source": [
    "data_camera_proc = []\n",
    "data_radar_proc = []\n",
    "\n",
    "# Preprocess camera data\n",
    "for idx, df_loop in data_camera.groupby([\"n_p\"]):\n",
    "    # Only filter by person records\n",
    "    data_aux = df_loop[df_loop[\"class_label\"] == \"person\"]\n",
    "\n",
    "    # Resample\n",
    "    data_aux = data_aux.resample('1T').mean()\n",
    "    data_aux = data_aux.resample('15T').sum()\n",
    "    \n",
    "    data_aux[\"n_p\"] = idx\n",
    "\n",
    "    data_camera_proc.append(data_aux)\n",
    "\n",
    "data_camera_proc = pd.concat(data_camera_proc)\n",
    "\n",
    "\n",
    "# Preprocess radar data\n",
    "for idx, df_loop in data_radar.groupby([\"n_p\"]):\n",
    "    # Resample (some we need the mean and another we need the sum)\n",
    "    data_aux = df_loop.resample('15T').mean()\n",
    "    data_aux2 = df_loop.resample('15T').sum()\n",
    "\n",
    "    cols_sum = [\"vehiclelight\", \"vehicleheavy\", \"vehicleothers\"]\n",
    "    data_aux[cols_sum] = data_aux2[cols_sum]\n",
    "    \n",
    "    data_aux[\"n_p\"] = idx\n",
    "\n",
    "    data_radar_proc.append(data_aux)\n",
    "\n",
    "data_radar_proc = pd.concat(data_radar_proc)"
   ]
  },
  {
   "cell_type": "code",
   "execution_count": null,
   "metadata": {},
   "outputs": [],
   "source": [
    "df_agg = data_radar_proc.merge(data_camera_proc, on=[\"time_index\", 'n_p'], how=\"inner\")"
   ]
  },
  {
   "cell_type": "code",
   "execution_count": null,
   "metadata": {},
   "outputs": [],
   "source": [
    "df_agg"
   ]
  },
  {
   "cell_type": "code",
   "execution_count": null,
   "metadata": {},
   "outputs": [],
   "source": [
    "df_agg.to_parquet('s3://datalake-eu-central-1/ugiO-atchackathon/preprocessed/aggregated.parquet')"
   ]
  }
 ],
 "metadata": {
  "kernelspec": {
   "display_name": "Python 3.8.10 ('atcenv': venv)",
   "language": "python",
   "name": "python3"
  },
  "language_info": {
   "codemirror_mode": {
    "name": "ipython",
    "version": 3
   },
   "file_extension": ".py",
   "mimetype": "text/x-python",
   "name": "python",
   "nbconvert_exporter": "python",
   "pygments_lexer": "ipython3",
   "version": "3.8.10"
  },
  "orig_nbformat": 4,
  "vscode": {
   "interpreter": {
    "hash": "105da4b4ceb88aa4aad87d502d4f781a92eb30571a80050f61a8adbe124aae62"
   }
  }
 },
 "nbformat": 4,
 "nbformat_minor": 2
}
